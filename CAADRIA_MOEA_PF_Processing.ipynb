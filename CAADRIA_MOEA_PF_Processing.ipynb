{
 "cells": [
  {
   "cell_type": "markdown",
   "metadata": {},
   "source": [
    "# [CAADRIA 2019] Multi Objective Evolutionary Algorithms - PF processing "
   ]
  },
  {
   "cell_type": "code",
   "execution_count": 1,
   "metadata": {},
   "outputs": [],
   "source": [
    "# https://plot.ly/python/axes/\n",
    "import pandas as pd\n",
    "import numpy as np"
   ]
  },
  {
   "cell_type": "code",
   "execution_count": 2,
   "metadata": {},
   "outputs": [],
   "source": [
    "# Files Configurations\n",
    "files_header = False\n",
    "base_folder = \"final/outputs/algorithms/\"\n",
    "\n",
    "# Get the data (csv file should be on the same folder as this file)\n",
    "def get_algorithm_data(algorithm, parent_folder=base_folder):\n",
    "    file = parent_folder + \"all_\" + algorithm + \"_solutions.csv\"\n",
    "    print(\"Reading file: \" + file)\n",
    "    return pd.read_csv(file, sep=',', header=None)"
   ]
  },
  {
   "cell_type": "code",
   "execution_count": 3,
   "metadata": {},
   "outputs": [],
   "source": [
    "# Variables and Objective columns\n",
    "vars_cols = [3, 4, 5, 6, 7, 8]\n",
    "objs_cols = [9, 10]\n",
    "\n",
    "# Drop columns (Time total, t1, t2)\n",
    "drop_cols = [0, 1, 2]"
   ]
  },
  {
   "cell_type": "code",
   "execution_count": 4,
   "metadata": {},
   "outputs": [],
   "source": [
    "# Objectives\n",
    "o1 = objs_cols[0]\n",
    "o2 = objs_cols[1]"
   ]
  },
  {
   "cell_type": "code",
   "execution_count": 5,
   "metadata": {},
   "outputs": [],
   "source": [
    "# Algorithms \n",
    "# algorithms = [\"MOEAD\", \"SPEA2\", \"NSGAII\", \"OMOPSO\", \"SMPSO\", \"PESA2\", \"PAES\", \"EpsMOEA\", \"GDE3\", \"CMAES\"]\n",
    "algorithms = [\"SMPSO\"]\n",
    "#algorithms = [\"MOEAD\", \"SPEA2\", \"NSGAII\", \"PESA2\", \"PAES\", \"EpsMOEA\"]"
   ]
  },
  {
   "cell_type": "markdown",
   "metadata": {},
   "source": [
    "### Pareto Dominance Functionality\n",
    "- `weakly_dominated`: determines if a certain solution is dominated or non-dominated.\n",
    "- `get_non_dominated_ix`: creates a column describing whether a certain solution is dominated or not.\n",
    "- `add_dominated_col`: adds a `isDominated` column to the dataframe"
   ]
  },
  {
   "cell_type": "code",
   "execution_count": 6,
   "metadata": {},
   "outputs": [],
   "source": [
    "def weakly_dominates(v0, v1):\n",
    "    return np.all(v0 <= v1) and np.any(v0 < v1)"
   ]
  },
  {
   "cell_type": "code",
   "execution_count": 7,
   "metadata": {},
   "outputs": [],
   "source": [
    "def get_non_dominated(V):\n",
    "    nsols, nobjs = V.shape\n",
    "    \n",
    "    dominated = np.zeros((nsols, 1))\n",
    "    dominated_by = np.zeros((nsols, 1))\n",
    "    \n",
    "    for i in range(nsols):\n",
    "        for j in range(nsols):\n",
    "            if i != j:\n",
    "                if weakly_dominates(V[j], V[i]):\n",
    "                    dominated[i] = 1\n",
    "                    dominated_by[i] = j \n",
    "                    break\n",
    "                    \n",
    "    return dominated, dominated_by\n",
    "        \n",
    "def add_isdominated_cols(d, cols=objs_cols):\n",
    "    A = np.array(d[cols])\n",
    "    B, C = get_non_dominated(A)\n",
    "    d[\"isDominated\"] = pd.DataFrame(B, columns=[\"isDominated\"])\n",
    "    d[\"dominatedBy\"] = pd.DataFrame(C, columns=[\"dominatedBy\"])\n",
    "    print(d[\"isDominated\"].value_counts())"
   ]
  },
  {
   "cell_type": "markdown",
   "metadata": {},
   "source": [
    "### Collect the Pareto Front for each algorithm (APFs)"
   ]
  },
  {
   "cell_type": "code",
   "execution_count": 8,
   "metadata": {},
   "outputs": [
    {
     "name": "stdout",
     "output_type": "stream",
     "text": [
      "Reading file: final/outputs/algorithms/all_SMPSO_solutions.csv\n"
     ]
    }
   ],
   "source": [
    "# Collect data for each algorithm\n",
    "dfs = [get_algorithm_data(alg) for alg in algorithms]"
   ]
  },
  {
   "cell_type": "code",
   "execution_count": 9,
   "metadata": {},
   "outputs": [
    {
     "name": "stdout",
     "output_type": "stream",
     "text": [
      "\t\tAlgorithm SMPSO \n",
      "Retrieved 675 solutions\n",
      "1.0    642\n",
      "0.0     33\n",
      "Name: isDominated, dtype: int64\n"
     ]
    }
   ],
   "source": [
    "# Add isDominated column for each algorithm\n",
    "for i in range(len(algorithms)):\n",
    "    print(\"\\t\\tAlgorithm\", algorithms[i], \"\\nRetrieved\", len(dfs[i]), \"solutions\")\n",
    "    dfs[i].drop(drop_cols, axis=1, inplace=True)\n",
    "    add_isdominated_cols(dfs[i])\n",
    "    dfs[i].sort_values(by=o1, inplace=True)"
   ]
  },
  {
   "cell_type": "code",
   "execution_count": 10,
   "metadata": {},
   "outputs": [],
   "source": [
    "# Get Non Dominated Solutions\n",
    "APFs = [df[df['isDominated'] == 0] for df in dfs]"
   ]
  },
  {
   "cell_type": "code",
   "execution_count": null,
   "metadata": {
    "collapsed": true
   },
   "outputs": [],
   "source": [
    "i = algorithms.index(\"GDE3\")\n",
    "APFs[i]\n",
    "\n",
    "# moead: 1.192813\t5.516787\t-0.883130\t20.340443\t-1.479601\t23.575989\t1.038524 objs: 1.038524    55.978605\n",
    "# smpso: 1.570796\t31.415927\t-1.570796\t31.415927\t1.454480\t5.826618\t0.576629\t78.072770"
   ]
  },
  {
   "cell_type": "markdown",
   "metadata": {},
   "source": [
    "### Collect True Pareto Front"
   ]
  },
  {
   "cell_type": "code",
   "execution_count": 11,
   "metadata": {},
   "outputs": [],
   "source": [
    "def get_true_pf_data(folder=\"final/outputs/\"):\n",
    "    file = folder + \"all_solutions.csv\"\n",
    "    return pd.read_csv(file, sep=',', header=None)\n",
    "\n",
    "def process_pf(d):\n",
    "    d.drop(drop_cols, axis=1, inplace=True)\n",
    "    add_isdominated_cols(d)"
   ]
  },
  {
   "cell_type": "code",
   "execution_count": 19,
   "metadata": {},
   "outputs": [
    {
     "name": "stdout",
     "output_type": "stream",
     "text": [
      "1.0    5556\n",
      "0.0      33\n",
      "Name: isDominated, dtype: int64\n",
      "True Pareto Front\n"
     ]
    }
   ],
   "source": [
    "TPF = get_true_pf_data()\n",
    "process_pf(TPF)\n",
    "print(\"True Pareto Front\")\n",
    "TPF.describe()\n",
    "TPF.sort_values(by=o1, inplace=True)"
   ]
  },
  {
   "cell_type": "code",
   "execution_count": 20,
   "metadata": {},
   "outputs": [
    {
     "data": {
      "text/html": [
       "<div>\n",
       "<style scoped>\n",
       "    .dataframe tbody tr th:only-of-type {\n",
       "        vertical-align: middle;\n",
       "    }\n",
       "\n",
       "    .dataframe tbody tr th {\n",
       "        vertical-align: top;\n",
       "    }\n",
       "\n",
       "    .dataframe thead th {\n",
       "        text-align: right;\n",
       "    }\n",
       "</style>\n",
       "<table border=\"1\" class=\"dataframe\">\n",
       "  <thead>\n",
       "    <tr style=\"text-align: right;\">\n",
       "      <th></th>\n",
       "      <th>3</th>\n",
       "      <th>4</th>\n",
       "      <th>5</th>\n",
       "      <th>6</th>\n",
       "      <th>7</th>\n",
       "      <th>8</th>\n",
       "      <th>9</th>\n",
       "      <th>10</th>\n",
       "      <th>isDominated</th>\n",
       "      <th>dominatedBy</th>\n",
       "    </tr>\n",
       "  </thead>\n",
       "  <tbody>\n",
       "    <tr>\n",
       "      <th>2144</th>\n",
       "      <td>1.570796</td>\n",
       "      <td>31.415927</td>\n",
       "      <td>-1.570796</td>\n",
       "      <td>31.415927</td>\n",
       "      <td>1.454480</td>\n",
       "      <td>5.826618</td>\n",
       "      <td>0.576629</td>\n",
       "      <td>78.072770</td>\n",
       "      <td>0.0</td>\n",
       "      <td>0.0</td>\n",
       "    </tr>\n",
       "    <tr>\n",
       "      <th>4102</th>\n",
       "      <td>1.514007</td>\n",
       "      <td>31.415927</td>\n",
       "      <td>-1.502658</td>\n",
       "      <td>30.734539</td>\n",
       "      <td>-1.570796</td>\n",
       "      <td>31.415927</td>\n",
       "      <td>0.600049</td>\n",
       "      <td>40.928094</td>\n",
       "      <td>0.0</td>\n",
       "      <td>0.0</td>\n",
       "    </tr>\n",
       "    <tr>\n",
       "      <th>2007</th>\n",
       "      <td>1.570796</td>\n",
       "      <td>31.415927</td>\n",
       "      <td>1.570796</td>\n",
       "      <td>7.729243</td>\n",
       "      <td>-1.570796</td>\n",
       "      <td>31.415927</td>\n",
       "      <td>0.600684</td>\n",
       "      <td>74.687634</td>\n",
       "      <td>1.0</td>\n",
       "      <td>4102.0</td>\n",
       "    </tr>\n",
       "    <tr>\n",
       "      <th>2074</th>\n",
       "      <td>1.570796</td>\n",
       "      <td>31.415927</td>\n",
       "      <td>1.529704</td>\n",
       "      <td>10.383558</td>\n",
       "      <td>-1.570796</td>\n",
       "      <td>31.300227</td>\n",
       "      <td>0.603422</td>\n",
       "      <td>69.973513</td>\n",
       "      <td>1.0</td>\n",
       "      <td>4102.0</td>\n",
       "    </tr>\n",
       "    <tr>\n",
       "      <th>2288</th>\n",
       "      <td>1.570796</td>\n",
       "      <td>31.415927</td>\n",
       "      <td>-1.570796</td>\n",
       "      <td>31.415927</td>\n",
       "      <td>1.570796</td>\n",
       "      <td>8.408968</td>\n",
       "      <td>0.607136</td>\n",
       "      <td>73.491710</td>\n",
       "      <td>1.0</td>\n",
       "      <td>2074.0</td>\n",
       "    </tr>\n",
       "  </tbody>\n",
       "</table>\n",
       "</div>"
      ],
      "text/plain": [
       "             3          4         5          6         7          8         9  \\\n",
       "2144  1.570796  31.415927 -1.570796  31.415927  1.454480   5.826618  0.576629   \n",
       "4102  1.514007  31.415927 -1.502658  30.734539 -1.570796  31.415927  0.600049   \n",
       "2007  1.570796  31.415927  1.570796   7.729243 -1.570796  31.415927  0.600684   \n",
       "2074  1.570796  31.415927  1.529704  10.383558 -1.570796  31.300227  0.603422   \n",
       "2288  1.570796  31.415927 -1.570796  31.415927  1.570796   8.408968  0.607136   \n",
       "\n",
       "             10  isDominated  dominatedBy  \n",
       "2144  78.072770          0.0          0.0  \n",
       "4102  40.928094          0.0          0.0  \n",
       "2007  74.687634          1.0       4102.0  \n",
       "2074  69.973513          1.0       4102.0  \n",
       "2288  73.491710          1.0       2074.0  "
      ]
     },
     "execution_count": 20,
     "metadata": {},
     "output_type": "execute_result"
    }
   ],
   "source": [
    "TPF.sort_values(by=o1, inplace=True)\n",
    "TPF.head()"
   ]
  },
  {
   "cell_type": "markdown",
   "metadata": {},
   "source": [
    "# Visual Processing"
   ]
  },
  {
   "cell_type": "code",
   "execution_count": 21,
   "metadata": {},
   "outputs": [
    {
     "data": {
      "text/plain": [
       "'3.7.1'"
      ]
     },
     "execution_count": 21,
     "metadata": {},
     "output_type": "execute_result"
    }
   ],
   "source": [
    "import plotly\n",
    "import plotly.plotly as py\n",
    "import plotly.graph_objs as go\n",
    "plotly.__version__"
   ]
  },
  {
   "cell_type": "code",
   "execution_count": 22,
   "metadata": {},
   "outputs": [],
   "source": [
    "# plotly.tools.set_credentials_file(username='PastelBelem8', api_key='X8k1mloXRlB24rZm0qyq')\n",
    "plotly.tools.set_credentials_file(username='KatarinaBelem', api_key='u5cJ4twW7lnZi128Bgjm')"
   ]
  },
  {
   "cell_type": "code",
   "execution_count": 15,
   "metadata": {},
   "outputs": [],
   "source": [
    "colors = [\n",
    "    # Verde\n",
    "    'rgb(81, 142, 12)',\n",
    "    # Vermelho\n",
    "    'rgb(165, 0, 0)',\n",
    "    # Roxo\n",
    "    'rgb(152, 64, 188)',\n",
    "    # Azul \n",
    "    'rgb(13, 188, 188)', \n",
    "    # Amarelo\n",
    "    'rgb(255, 165, 21)',\n",
    "    # Rosa\n",
    "    'rgb(219, 31, 152)',\n",
    "    # Cinzento claro\n",
    "    'rgb(119, 130, 118)',\n",
    "    # Azul escuro\n",
    "    'rgb(0, 0, 255)',\n",
    "    # Castanho\n",
    "    'rgb(128, 64, 0)',\n",
    "    # Preto\n",
    "    'rgb(77, 38, 0)'\n",
    "    ]"
   ]
  },
  {
   "cell_type": "code",
   "execution_count": 16,
   "metadata": {},
   "outputs": [],
   "source": [
    "layout = go.Layout(\n",
    "    # title = \"Solutions of the minimization of two goals of an arc-shaped space frame\",\n",
    "    showlegend=True,\n",
    "    # showlegend=False,\n",
    "\n",
    "    xaxis=dict(\n",
    "        title=\"Maximum Displacement\",\n",
    "        range=[0.57, 1.42],\n",
    "        # autorange=True,\n",
    "        showgrid=True,\n",
    "        zeroline=False,\n",
    "        showline=True,\n",
    "        ticks='',\n",
    "        showticklabels=True\n",
    "    ),\n",
    "    yaxis=dict(\n",
    "        title=\"Euclidean Distance\",\n",
    "        range=[0, 80],\n",
    "        # autorange=True,        \n",
    "        showgrid=True,\n",
    "        zeroline=False,\n",
    "        showline=True,\n",
    "        ticks='',\n",
    "        showticklabels=True\n",
    "    )\n",
    "    )"
   ]
  },
  {
   "cell_type": "code",
   "execution_count": 23,
   "metadata": {},
   "outputs": [],
   "source": [
    "def create_pf(algs=algorithms, colors=colors, layout=layout, approximatedPFs=APFs, combinedPf=TPF):\n",
    "    # Create traces for each algorithm\n",
    "    traces = []\n",
    "    for i, a in enumerate(algorithms):\n",
    "        trace = go.Scatter(\n",
    "                    x = approximatedPFs[i][o1],\n",
    "                    y = approximatedPFs[i][o2],\n",
    "                    # mode = 'markers',\n",
    "                    mode = 'lines+markers',\n",
    "                    name = a + \" Pareto Front\",\n",
    "                    marker=dict(\n",
    "                        size=5,\n",
    "                        color = colors[i],\n",
    "                        opacity=1\n",
    "                    ),\n",
    "                    line=dict(\n",
    "                        color = colors[i]\n",
    "                    ))\n",
    "        traces += [trace]\n",
    "     \n",
    "    if combinedPf is not None:\n",
    "        tpf_o1 = combinedPf[combinedPf['isDominated'] == 0][o1]\n",
    "        tpf_o2 = combinedPf[combinedPf['isDominated'] == 0][o2]\n",
    "    \n",
    "        # Add True PF\n",
    "        tpf_trace = go.Scatter(\n",
    "            x = tpf_o1,\n",
    "            y = tpf_o2,\n",
    "            mode = 'lines+markers',\n",
    "            name = \"Combined Pareto Front\",\n",
    "            marker=dict(\n",
    "                size=6,\n",
    "                color = 'rgb(13, 188, 188)', #'rgb(16, 46, 51)',\n",
    "                opacity=1\n",
    "                #line = dict(\n",
    "                #     color = 'rgb(255, 255, 255)',\n",
    "                #      width = 0.25\n",
    "                # )\n",
    "                )\n",
    "            )\n",
    "        traces.append(tpf_trace)\n",
    "    fig = go.Figure(data=traces, layout=layout)\n",
    "    return py.iplot(fig, filename='AllAlgorithmsPfs')"
   ]
  },
  {
   "cell_type": "code",
   "execution_count": 24,
   "metadata": {},
   "outputs": [
    {
     "data": {
      "text/html": [
       "<iframe id=\"igraph\" scrolling=\"no\" style=\"border:none;\" seamless=\"seamless\" src=\"https://plot.ly/~KatarinaBelem/2.embed\" height=\"525px\" width=\"100%\"></iframe>"
      ],
      "text/plain": [
       "<plotly.tools.PlotlyDisplay object>"
      ]
     },
     "execution_count": 24,
     "metadata": {},
     "output_type": "execute_result"
    }
   ],
   "source": [
    "create_pf()"
   ]
  },
  {
   "cell_type": "markdown",
   "metadata": {},
   "source": [
    "# All the points..."
   ]
  },
  {
   "cell_type": "code",
   "execution_count": 1,
   "metadata": {},
   "outputs": [
    {
     "ename": "NameError",
     "evalue": "name 'algorithms' is not defined",
     "output_type": "error",
     "traceback": [
      "\u001b[1;31m---------------------------------------------------------------------------\u001b[0m",
      "\u001b[1;31mNameError\u001b[0m                                 Traceback (most recent call last)",
      "\u001b[1;32m<ipython-input-1-ba9312a2b73d>\u001b[0m in \u001b[0;36m<module>\u001b[1;34m()\u001b[0m\n\u001b[1;32m----> 1\u001b[1;33m \u001b[1;32mdef\u001b[0m \u001b[0mcreate_dispersion_plot\u001b[0m\u001b[1;33m(\u001b[0m\u001b[0malgorithms\u001b[0m\u001b[1;33m=\u001b[0m\u001b[0malgorithms\u001b[0m\u001b[1;33m,\u001b[0m \u001b[0mcolors\u001b[0m\u001b[1;33m=\u001b[0m\u001b[0mcolors\u001b[0m\u001b[1;33m,\u001b[0m \u001b[0mlayout\u001b[0m\u001b[1;33m=\u001b[0m\u001b[0mlayout\u001b[0m\u001b[1;33m,\u001b[0m \u001b[0mdata\u001b[0m\u001b[1;33m=\u001b[0m\u001b[0mdfs\u001b[0m\u001b[1;33m,\u001b[0m \u001b[0mcombinedPf\u001b[0m\u001b[1;33m=\u001b[0m\u001b[0mTPF\u001b[0m\u001b[1;33m)\u001b[0m\u001b[1;33m:\u001b[0m\u001b[1;33m\u001b[0m\u001b[1;33m\u001b[0m\u001b[0m\n\u001b[0m\u001b[0;32m      2\u001b[0m     \u001b[1;31m# Create traces for each algorithm\u001b[0m\u001b[1;33m\u001b[0m\u001b[1;33m\u001b[0m\u001b[1;33m\u001b[0m\u001b[0m\n\u001b[0;32m      3\u001b[0m     \u001b[0mtraces\u001b[0m \u001b[1;33m=\u001b[0m \u001b[1;33m[\u001b[0m\u001b[1;33m]\u001b[0m\u001b[1;33m\u001b[0m\u001b[1;33m\u001b[0m\u001b[0m\n\u001b[0;32m      4\u001b[0m     \u001b[1;32mfor\u001b[0m \u001b[0mi\u001b[0m\u001b[1;33m,\u001b[0m \u001b[0ma\u001b[0m \u001b[1;32min\u001b[0m \u001b[0menumerate\u001b[0m\u001b[1;33m(\u001b[0m\u001b[0malgorithms\u001b[0m\u001b[1;33m)\u001b[0m\u001b[1;33m:\u001b[0m\u001b[1;33m\u001b[0m\u001b[1;33m\u001b[0m\u001b[0m\n\u001b[0;32m      5\u001b[0m         \u001b[0mdatum\u001b[0m \u001b[1;33m=\u001b[0m \u001b[0mdata\u001b[0m\u001b[1;33m[\u001b[0m\u001b[0mi\u001b[0m\u001b[1;33m]\u001b[0m\u001b[1;33m\u001b[0m\u001b[1;33m\u001b[0m\u001b[0m\n",
      "\u001b[1;31mNameError\u001b[0m: name 'algorithms' is not defined"
     ]
    }
   ],
   "source": [
    "def create_dispersion_plot(algorithms=algorithms, colors=colors, layout=layout, data=dfs, combinedPf=TPF):\n",
    "    # Create traces for each algorithm\n",
    "    traces = []\n",
    "    for i, a in enumerate(algorithms):\n",
    "        datum = data[i]\n",
    "        trace1 = go.Scatter(\n",
    "                    x = datum[datum['isDominated'] == 0][o1],\n",
    "                    y = datum[datum['isDominated'] == 0][o2],\n",
    "                    #legendgroup = a,\n",
    "                    name = a + \" Non-dominated\",\n",
    "                    mode = 'lines+markers',\n",
    "                    marker=dict(\n",
    "                        size=5,\n",
    "                        color = colors[i],\n",
    "                        opacity=1\n",
    "                    ),\n",
    "                    line=dict(\n",
    "                        color = colors[i]\n",
    "                    ))\n",
    "        trace2 = go.Scatter(\n",
    "                    x = datum[datum['isDominated'] == 1][o1],\n",
    "                    y = datum[datum['isDominated'] == 1][o2],\n",
    "                    # legendgroup = a,\n",
    "                    name = a + \" dominated\",\n",
    "                    mode = 'markers',\n",
    "                    marker=dict(\n",
    "                        size=2.5,\n",
    "                        color = colors[i],\n",
    "                        opacity=0.8\n",
    "                    ))\n",
    "\n",
    "        traces += [trace1, trace2]\n",
    "    if combinedPf is not None:\n",
    "        tpf_o1 = combinedPf[combinedPf['isDominated'] == 0][o1]\n",
    "        tpf_o2 = combinedPf[combinedPf['isDominated'] == 0][o2]\n",
    "\n",
    "        tpf_trace = go.Scatter(\n",
    "            x = tpf_o1,\n",
    "            y = tpf_o2,\n",
    "            mode = 'markers',\n",
    "            name = \"Combined Pareto Front\",\n",
    "            marker=dict(\n",
    "                size=6,\n",
    "                color = 'rgb(16, 46, 51)',\n",
    "                opacity=1\n",
    "                #line = dict(\n",
    "               #     color = 'rgb(255, 255, 255)',\n",
    "              #      width = 0.25\n",
    "                 # )\n",
    "                )\n",
    "        )\n",
    "        traces.append(tpf_trace)\n",
    "    fig = go.Figure(data=traces, layout=layout)\n",
    "    return py.iplot(fig, filename='ALL-TOGETHER-NOW')"
   ]
  },
  {
   "cell_type": "code",
   "execution_count": null,
   "metadata": {
    "scrolled": false
   },
   "outputs": [],
   "source": [
    "create_dispersion_plot()"
   ]
  },
  {
   "cell_type": "code",
   "execution_count": null,
   "metadata": {
    "collapsed": true
   },
   "outputs": [],
   "source": []
  },
  {
   "cell_type": "code",
   "execution_count": null,
   "metadata": {
    "collapsed": true
   },
   "outputs": [],
   "source": []
  },
  {
   "cell_type": "code",
   "execution_count": null,
   "metadata": {
    "collapsed": true
   },
   "outputs": [],
   "source": []
  },
  {
   "cell_type": "markdown",
   "metadata": {},
   "source": [
    "Contrastingly, when considering HV, if we compute the average of each run, PAES exhibits the largest volume,\n",
    "hence strongly indicating that it is the best algorithm, with SMPSO, OMOPSO and MOEA/D\n",
    "having the worst behaviors. However, when considering the combination of the three runs,\n",
    "this situation is reversed and SMPSO and OMOPSO exhibit the best behaviors."
   ]
  },
  {
   "cell_type": "code",
   "execution_count": null,
   "metadata": {
    "collapsed": true
   },
   "outputs": [],
   "source": [
    "df_extra_spea2 = df_extra_spea2.convert_objects(convert_numeric=True)\n",
    "df_extra_spea2.info()"
   ]
  },
  {
   "cell_type": "code",
   "execution_count": null,
   "metadata": {
    "collapsed": true
   },
   "outputs": [],
   "source": [
    "# Additional run of SPEA2 for 1250 evaluations (50 generations of 25 individuals)\n",
    "# df_extra_spea2_original = pd.read_csv(\"final/SPEA2_2000.csv\", sep=',')\n",
    "# Additional run of SPEA2 for 4000 evaluations (40 generations of 100 individuals)\n",
    "df_extra_spea2_original = pd.read_csv(\"final/SPEA2_4000.csv\", sep=',')\n",
    "\n",
    "df_extra_spea2_original.drop([\"Total time (s)\", \"Time o1\", \"Time o2\"], axis=1, inplace=True)\n",
    "df_extra_spea2 = df_extra_spea2_original.copy()"
   ]
  },
  {
   "cell_type": "code",
   "execution_count": null,
   "metadata": {
    "collapsed": true
   },
   "outputs": [],
   "source": [
    "df_extra_spea2[(df_extra_spea2[\"O1\"] < 1) & (df_extra_spea2[\"O2\"] < 60)].sort_values(by=\"O2\")"
   ]
  },
  {
   "cell_type": "code",
   "execution_count": null,
   "metadata": {
    "collapsed": true
   },
   "outputs": [],
   "source": [
    "#df_extra_spea2.sort_values(by=\"O1\", inplace=True)\n",
    "add_isdominated_cols(df_extra_spea2, cols=[\"O1\", \"O2\"])"
   ]
  },
  {
   "cell_type": "code",
   "execution_count": null,
   "metadata": {
    "collapsed": true
   },
   "outputs": [],
   "source": [
    "df_extra_spea2.sort_values(by=\"O1\", inplace=True)\n",
    "df_extra_spea2.head()"
   ]
  },
  {
   "cell_type": "code",
   "execution_count": null,
   "metadata": {
    "collapsed": true
   },
   "outputs": [],
   "source": [
    "traces3 = []\n",
    "df_extra_spea2.sort_values(by=\"O1\", inplace=True)\n",
    "trace_extra_3 = go.Scatter(\n",
    "                x = df_extra_spea2[df_extra_spea2['isDominated'] == 0][\"O1\"],\n",
    "                y = df_extra_spea2[df_extra_spea2['isDominated'] == 0][\"O2\"],\n",
    "                legendgroup = \"Extra Spea2\",\n",
    "                name = \"Extra SPEA2-4000 Non-dominated\",\n",
    "                mode = 'lines+markers',\n",
    "                marker=dict(\n",
    "                    size=5,\n",
    "                    color = \"rgb(0, 255, 0)\",\n",
    "                    opacity=1\n",
    "                ),\n",
    "                line=dict(\n",
    "                    color = \"rgb(0, 255, 0)\"\n",
    "                ))\n",
    "trace_extra_4 = go.Scatter(\n",
    "                x = df_extra_spea2[df_extra_spea2['isDominated'] == 1][\"O1\"],\n",
    "                y = df_extra_spea2[df_extra_spea2['isDominated'] == 1][\"O2\"],\n",
    "                legendgroup = \"Extra Spea2\",\n",
    "                name = \"Extra SPEA2-4000 dominated\",\n",
    "                mode = 'markers',\n",
    "                marker=dict(\n",
    "                    size=2.5,\n",
    "                    color = \"rgb(0, 255, 0)\",\n",
    "                    opacity=0.8\n",
    "                ))"
   ]
  },
  {
   "cell_type": "code",
   "execution_count": null,
   "metadata": {
    "collapsed": true
   },
   "outputs": [],
   "source": []
  },
  {
   "cell_type": "code",
   "execution_count": null,
   "metadata": {
    "collapsed": true
   },
   "outputs": [],
   "source": [
    "traces3 = traces2 + [trace_extra_3, trace_extra_4]"
   ]
  },
  {
   "cell_type": "code",
   "execution_count": null,
   "metadata": {
    "collapsed": true
   },
   "outputs": [],
   "source": [
    "fig = go.Figure(data=traces3)\n",
    "py.iplot(fig, filename='Extra Run')"
   ]
  },
  {
   "cell_type": "code",
   "execution_count": null,
   "metadata": {
    "collapsed": true
   },
   "outputs": [],
   "source": [
    "df_extra_spea2[(df_extra_spea2[\"O1\"] <= 0.95) & (df_extra_spea2[\"O2\"] <= 21)]"
   ]
  },
  {
   "cell_type": "code",
   "execution_count": null,
   "metadata": {
    "collapsed": true
   },
   "outputs": [],
   "source": [
    "df_extra_spea2.iloc[93:94]"
   ]
  },
  {
   "cell_type": "code",
   "execution_count": null,
   "metadata": {
    "collapsed": true
   },
   "outputs": [],
   "source": [
    "# Additional run of SPEA2 for 1250 evaluations (50 generations of 25 individuals)\n",
    "# df_extra_spea2_original = pd.read_csv(\"final/SPEA2_2000.csv\", sep=',')\n",
    "# Additional run of SPEA2 for 4000 evaluations (40 generations of 100 individuals)\n",
    "df_extra_smpso_original = pd.read_csv(\"final/outputs/all_SMPSO_2_solutions.csv\", sep=',', header=None)\n",
    "df_extra_smpso_original.head()"
   ]
  },
  {
   "cell_type": "code",
   "execution_count": null,
   "metadata": {
    "collapsed": true
   },
   "outputs": [],
   "source": [
    "#df_extra_spea2.sort_values(by=\"O1\", inplace=True)\n",
    "add_isdominated_cols(df_extra_smpso_original)"
   ]
  },
  {
   "cell_type": "code",
   "execution_count": null,
   "metadata": {
    "collapsed": true
   },
   "outputs": [],
   "source": [
    "traces4 = []\n",
    "df_extra_smpso_original.sort_values(by=9, inplace=True)\n",
    "trace_extra_5 = go.Scatter(\n",
    "                x = df_extra_smpso_original[df_extra_smpso_original['isDominated'] == 0][o1],\n",
    "                y = df_extra_smpso_original[df_extra_smpso_original['isDominated'] == 0][o2],\n",
    "                legendgroup = \"Extra SMPSO\",\n",
    "                name = \"Extra SMPSO Non-dominated\",\n",
    "                mode = 'lines+markers',\n",
    "                marker=dict(\n",
    "                    size=5,\n",
    "                    color = \"rgb(255, 0, 0)\",\n",
    "                    opacity=1\n",
    "                ),\n",
    "                line=dict(\n",
    "                    color = \"rgb(255, 0, 0)\"\n",
    "                ))\n",
    "trace_extra_6 = go.Scatter(\n",
    "                x = df_extra_smpso_original[df_extra_smpso_original['isDominated'] == 1][o1],\n",
    "                y = df_extra_smpso_original[df_extra_smpso_original['isDominated'] == 1][o2],\n",
    "                legendgroup = \"Extra SMPSO\",\n",
    "                name = \"Extra SMPSO dominated\",\n",
    "                mode = 'markers',\n",
    "                marker=dict(\n",
    "                    size=2.5,\n",
    "                    color = \"rgb(255, 0, 0)\",\n",
    "                    opacity=0.8\n",
    "                ))"
   ]
  },
  {
   "cell_type": "code",
   "execution_count": null,
   "metadata": {
    "collapsed": true
   },
   "outputs": [],
   "source": [
    "traces4 = traces3 + [trace_extra_5, trace_extra_6]"
   ]
  },
  {
   "cell_type": "code",
   "execution_count": null,
   "metadata": {
    "collapsed": true
   },
   "outputs": [],
   "source": [
    "fig = go.Figure(data=traces4)\n",
    "py.iplot(fig, filename='Extra Run')"
   ]
  },
  {
   "cell_type": "markdown",
   "metadata": {},
   "source": [
    "###  Check Min and Max Values per iteration..."
   ]
  },
  {
   "cell_type": "code",
   "execution_count": null,
   "metadata": {
    "collapsed": true
   },
   "outputs": [],
   "source": [
    "pop_size = 25\n",
    "nrows=df_extra_spea2.shape[0]\n",
    "nrows"
   ]
  },
  {
   "cell_type": "code",
   "execution_count": null,
   "metadata": {
    "collapsed": true
   },
   "outputs": [],
   "source": [
    "n_iterations = nrows // pop_size\n",
    "n_iterations"
   ]
  },
  {
   "cell_type": "code",
   "execution_count": null,
   "metadata": {
    "collapsed": true
   },
   "outputs": [],
   "source": [
    "df_extra_spea2_original.iloc[0:2] # Syntax Example"
   ]
  },
  {
   "cell_type": "code",
   "execution_count": null,
   "metadata": {
    "collapsed": true
   },
   "outputs": [],
   "source": [
    "df_iterations = []\n",
    "for i in range(n_iterations + 1):\n",
    "    i_in, i_end = i * pop_size, i*pop_size+1\n",
    "    df_iterations += [df_extra_spea2_original.loc[i_in:i_end].copy()]"
   ]
  },
  {
   "cell_type": "code",
   "execution_count": null,
   "metadata": {
    "collapsed": true
   },
   "outputs": [],
   "source": [
    "len(df_iterations)"
   ]
  },
  {
   "cell_type": "code",
   "execution_count": null,
   "metadata": {
    "collapsed": true
   },
   "outputs": [],
   "source": [
    "df_iterations"
   ]
  },
  {
   "cell_type": "code",
   "execution_count": null,
   "metadata": {
    "collapsed": true
   },
   "outputs": [],
   "source": []
  },
  {
   "cell_type": "code",
   "execution_count": null,
   "metadata": {
    "collapsed": true
   },
   "outputs": [],
   "source": [
    "iterations_min = pd.DataFrame(columns=df_iterations[1].columns)\n",
    "for iteration in df_iterations:\n",
    "    iterations_min.append(iteration.min(), ignore_index=True)\n",
    "iterations_min"
   ]
  },
  {
   "cell_type": "code",
   "execution_count": null,
   "metadata": {
    "collapsed": true
   },
   "outputs": [],
   "source": [
    "df_iterations"
   ]
  },
  {
   "cell_type": "markdown",
   "metadata": {},
   "source": [
    "# Indicators Processing"
   ]
  },
  {
   "cell_type": "code",
   "execution_count": null,
   "metadata": {
    "collapsed": true
   },
   "outputs": [],
   "source": [
    "indicators_df = pd.read_csv(\"final/outputs/indicators.csv\", sep=',')\n",
    "indicators_df[(indicators_df[\"Algorithm\"] == \"PAES\")|(indicators_df[\"Algorithm\"] == \"SMPSO\")]"
   ]
  },
  {
   "cell_type": "code",
   "execution_count": null,
   "metadata": {
    "collapsed": true
   },
   "outputs": [],
   "source": [
    "indicators_df.describe()"
   ]
  },
  {
   "cell_type": "code",
   "execution_count": null,
   "metadata": {
    "collapsed": true
   },
   "outputs": [],
   "source": [
    "# Create new DF with mean and std deviation\n",
    "indicators_mean = indicators_df.groupby([\"Algorithm\"]).mean()\n",
    "indicators_mean.sort_values(by=\"IGD\", inplace=False)[[\"IGD\", \"HV\"]]"
   ]
  },
  {
   "cell_type": "code",
   "execution_count": null,
   "metadata": {
    "collapsed": true
   },
   "outputs": [],
   "source": [
    "indicators_std = indicators_df.groupby([\"Algorithm\"]).std()\n",
    "indicators_std"
   ]
  },
  {
   "cell_type": "code",
   "execution_count": null,
   "metadata": {
    "collapsed": true
   },
   "outputs": [],
   "source": [
    "# HV --> The larger, the better\n",
    "# ONVG --> The larger, the better (number of non-dominated solutions per run)"
   ]
  },
  {
   "cell_type": "markdown",
   "metadata": {},
   "source": [
    "## Combined PFs indicators"
   ]
  },
  {
   "cell_type": "code",
   "execution_count": null,
   "metadata": {
    "collapsed": true
   },
   "outputs": [],
   "source": [
    "combined_indicators_df = pd.read_csv(\"final/outputs/indicators_3_runs_combined.csv\", sep=',')\n",
    "combined_indicators_df.sort_values(by=\"IGD\", inplace=False)[[\"IGD\", \"HV\", \"Algorithm\"]]"
   ]
  },
  {
   "cell_type": "code",
   "execution_count": 45,
   "metadata": {},
   "outputs": [
    {
     "ename": "NameError",
     "evalue": "name 'combined_indicators_df' is not defined",
     "output_type": "error",
     "traceback": [
      "\u001b[1;31m---------------------------------------------------------------------------\u001b[0m",
      "\u001b[1;31mNameError\u001b[0m                                 Traceback (most recent call last)",
      "\u001b[1;32m<ipython-input-45-4f054645383c>\u001b[0m in \u001b[0;36m<module>\u001b[1;34m()\u001b[0m\n\u001b[1;32m----> 1\u001b[1;33m \u001b[0mcombined_indicators_df\u001b[0m\u001b[1;33m\u001b[0m\u001b[1;33m\u001b[0m\u001b[0m\n\u001b[0m",
      "\u001b[1;31mNameError\u001b[0m: name 'combined_indicators_df' is not defined"
     ]
    }
   ],
   "source": [
    "combined_indicators_df"
   ]
  },
  {
   "cell_type": "code",
   "execution_count": null,
   "metadata": {
    "collapsed": true
   },
   "outputs": [],
   "source": []
  },
  {
   "cell_type": "markdown",
   "metadata": {},
   "source": [
    "# Test Click Events\n",
    "I believe this currently works on online settings, but I have tried in the offline scenario with no success."
   ]
  },
  {
   "cell_type": "code",
   "execution_count": 56,
   "metadata": {},
   "outputs": [],
   "source": [
    "tpf_o1 = TPF[TPF['isDominated'] == 0][o1]\n",
    "tpf_o2 = TPF[TPF['isDominated'] == 0][o2]\n",
    "    \n",
    "tpf_vars = TPF[TPF['isDominated'] == 0][vars_cols]\n"
   ]
  },
  {
   "cell_type": "code",
   "execution_count": 57,
   "metadata": {},
   "outputs": [],
   "source": [
    "# Add True PF\n",
    "tpf_trace = go.Scatter(\n",
    "    x = tpf_o1,\n",
    "    y = tpf_o2,\n",
    "    mode = 'lines+markers',\n",
    "    customdata = tpf_vars,\n",
    "    name = \"Combined Pareto Front\",\n",
    "    marker=dict(\n",
    "        size=6,\n",
    "        color = 'rgb(13, 188, 188)', #'rgb(16, 46, 51)',\n",
    "        opacity=1\n",
    "        #line = dict(\n",
    "        #     color = 'rgb(255, 255, 255)',\n",
    "        #      width = 0.25\n",
    "        # )\n",
    "        )\n",
    ")"
   ]
  },
  {
   "cell_type": "code",
   "execution_count": 58,
   "metadata": {},
   "outputs": [],
   "source": [
    "f = go.FigureWidget([tpf_trace])"
   ]
  },
  {
   "cell_type": "code",
   "execution_count": 59,
   "metadata": {},
   "outputs": [],
   "source": [
    "scatter = f.data[0]"
   ]
  },
  {
   "cell_type": "code",
   "execution_count": 60,
   "metadata": {},
   "outputs": [],
   "source": [
    "f.layout.hovermode = 'closest'"
   ]
  },
  {
   "cell_type": "code",
   "execution_count": 73,
   "metadata": {},
   "outputs": [],
   "source": [
    "# create our callback function\n",
    "def update_point(trace, points, selector):\n",
    "    print(points.point_inds)\n",
    "    \n",
    "    clickedPoints = [print(trace['customdata'][points.point_inds][:])\n",
    "    \n",
    "    #for i in points.point_inds:\n",
    "\n",
    "scatter.on_click(update_point)"
   ]
  },
  {
   "cell_type": "code",
   "execution_count": 74,
   "metadata": {
    "scrolled": false
   },
   "outputs": [
    {
     "data": {
      "application/vnd.jupyter.widget-view+json": {
       "model_id": "8a7d3c7bff1d4c85b88c620fb2ccc869",
       "version_major": 2,
       "version_minor": 0
      },
      "text/plain": [
       "FigureWidget({\n",
       "    'data': [{'customdata': array([[  1.57079633,  31.41592654,  -1.57079633,  31.41592654,   1…"
      ]
     },
     "metadata": {},
     "output_type": "display_data"
    },
    {
     "name": "stdout",
     "output_type": "stream",
     "text": [
      "[0]\n",
      "[[  1.57079633  31.41592654  -1.57079633  31.41592654   1.4544804\n",
      "    5.82661777]]\n",
      "InputDeviceState(\n",
      "    ctrl=False, \n",
      "    alt=False, \n",
      "    shift=False, \n",
      "    meta=False, \n",
      "    button=0, \n",
      "    buttons=1)\n",
      "[0]\n",
      "[[  1.57079633  31.41592654  -1.57079633  31.41592654   1.4544804\n",
      "    5.82661777]]\n",
      "InputDeviceState(\n",
      "    ctrl=True, \n",
      "    alt=False, \n",
      "    shift=False, \n",
      "    meta=False, \n",
      "    button=0, \n",
      "    buttons=1)\n",
      "[2]\n",
      "[[  1.52347532  31.41592654  -1.57079633  31.41592654  -1.57079633\n",
      "   31.41592654]]\n",
      "InputDeviceState(\n",
      "    ctrl=False, \n",
      "    alt=False, \n",
      "    shift=False, \n",
      "    meta=False, \n",
      "    button=0, \n",
      "    buttons=1)\n",
      "[18]\n",
      "[[ -1.09009581  21.12500714  -0.93744986  19.53343796  -0.85651068\n",
      "   17.56171882]]\n",
      "InputDeviceState(\n",
      "    ctrl=False, \n",
      "    alt=False, \n",
      "    shift=False, \n",
      "    meta=False, \n",
      "    button=0, \n",
      "    buttons=1)\n",
      "[2]\n",
      "[[  1.52347532  31.41592654  -1.57079633  31.41592654  -1.57079633\n",
      "   31.41592654]]\n",
      "InputDeviceState(\n",
      "    ctrl=False, \n",
      "    alt=False, \n",
      "    shift=False, \n",
      "    meta=False, \n",
      "    button=0, \n",
      "    buttons=1)\n"
     ]
    }
   ],
   "source": [
    "f"
   ]
  },
  {
   "cell_type": "code",
   "execution_count": null,
   "metadata": {},
   "outputs": [],
   "source": []
  },
  {
   "cell_type": "code",
   "execution_count": null,
   "metadata": {
    "collapsed": true
   },
   "outputs": [],
   "source": []
  }
 ],
 "metadata": {
  "kernelspec": {
   "display_name": "Python 3",
   "language": "python",
   "name": "python3"
  },
  "language_info": {
   "codemirror_mode": {
    "name": "ipython",
    "version": 3
   },
   "file_extension": ".py",
   "mimetype": "text/x-python",
   "name": "python",
   "nbconvert_exporter": "python",
   "pygments_lexer": "ipython3",
   "version": "3.6.7"
  }
 },
 "nbformat": 4,
 "nbformat_minor": 2
}
